{
  "nbformat": 4,
  "nbformat_minor": 0,
  "metadata": {
    "colab": {
      "provenance": []
    },
    "kernelspec": {
      "name": "python3",
      "display_name": "Python 3"
    },
    "language_info": {
      "name": "python"
    }
  },
  "cells": [
    {
      "cell_type": "markdown",
      "source": [
        "The goal of this project is to classify 15 different types of vegetble that are commonly found in the market.The following are:\n",
        "\n",
        "    1. Carrots\n",
        "    2. Tomatoes\n",
        "    3. Lettuce\n",
        "    4. Spinach\n",
        "    5. Broccoli\n",
        "    6. Cucumbers\n",
        "    7. Bell Peppers\n",
        "    8. Potatoes\n",
        "    9. Onions\n",
        "    10. Garlic\n",
        "    11. Zucchini\n",
        "    12. Cabbage\n",
        "    13. Kale\n",
        "    14. Radishes\n",
        "    15. Avocado\n"
      ],
      "metadata": {
        "id": "TsN2CW1CHi96"
      }
    },
    {
      "cell_type": "markdown",
      "source": [
        "# Setting Up for Inference"
      ],
      "metadata": {
        "id": "NVvW1QAcHqnV"
      }
    },
    {
      "cell_type": "code",
      "source": [
        "!pip install -Uqq fastai"
      ],
      "metadata": {
        "id": "pBVpRrCvHtPM"
      },
      "execution_count": 13,
      "outputs": []
    },
    {
      "cell_type": "code",
      "source": [
        "from fastai.vision.all import *"
      ],
      "metadata": {
        "id": "yJjc4sRpHzbL"
      },
      "execution_count": 14,
      "outputs": []
    },
    {
      "cell_type": "code",
      "source": [
        "from google.colab import drive\n",
        "drive.mount('/content/drive')"
      ],
      "metadata": {
        "colab": {
          "base_uri": "https://localhost:8080/"
        },
        "id": "QJJmAGcwH584",
        "outputId": "febbe518-07e2-4bcc-d155-4bf9a4e7de3e"
      },
      "execution_count": 15,
      "outputs": [
        {
          "output_type": "stream",
          "name": "stdout",
          "text": [
            "Drive already mounted at /content/drive; to attempt to forcibly remount, call drive.mount(\"/content/drive\", force_remount=True).\n"
          ]
        }
      ]
    },
    {
      "cell_type": "code",
      "source": [
        "%cd /content/drive/MyDrive/Master_Course/Vegetable_Recognizer"
      ],
      "metadata": {
        "colab": {
          "base_uri": "https://localhost:8080/"
        },
        "id": "g-_GaHmUIA3U",
        "outputId": "cde78b32-cf42-439e-fcf7-ee645eedaa70"
      },
      "execution_count": 16,
      "outputs": [
        {
          "output_type": "stream",
          "name": "stdout",
          "text": [
            "/content/drive/MyDrive/Master_Course/Vegetable_Recognizer\n"
          ]
        }
      ]
    },
    {
      "cell_type": "code",
      "source": [
        "version = 2\n",
        "img_path = 'test_images'\n",
        "model_path = f'/content/drive/MyDrive/Master_Course/Vegetable_Recognizer/models/veg-recognizer-v1.pkl'"
      ],
      "metadata": {
        "id": "Q_aWs0FHIZ9z"
      },
      "execution_count": 21,
      "outputs": []
    },
    {
      "cell_type": "code",
      "source": [
        "model = load_learner(model_path)"
      ],
      "metadata": {
        "id": "54oBMFyvjBBg"
      },
      "execution_count": 27,
      "outputs": []
    },
    {
      "cell_type": "markdown",
      "source": [
        "# Inference 1\n",
        "**Target** Avocado"
      ],
      "metadata": {
        "id": "2nozKIuiKtQe"
      }
    },
    {
      "cell_type": "code",
      "source": [
        "img = Image.open(f'/content/drive/MyDrive/Master_Course/Vegetable_Recognizer/data/Avocado/03ad73a1-8b47-4441-9bb4-70dc77ef8b3f.jpg')\n",
        "img.to_thumb(128,128)"
      ],
      "metadata": {
        "colab": {
          "base_uri": "https://localhost:8080/",
          "height": 94
        },
        "id": "lGvy26m6KuxW",
        "outputId": "b32ec777-1b25-4e4c-b14d-27064ad013e0"
      },
      "execution_count": 28,
      "outputs": [
        {
          "output_type": "execute_result",
          "data": {
            "text/plain": [
              "<PIL.Image.Image image mode=RGB size=128x77>"
            ],
            "image/png": "[encoded data removed]"
          },
          "metadata": {},
          "execution_count": 28
        }
      ]
    },
    {
      "cell_type": "code",
      "source": [
        "model.predict(f'/content/drive/MyDrive/Master_Course/Vegetable_Recognizer/data/Avocado/03ad73a1-8b47-4441-9bb4-70dc77ef8b3f.jpg')"
      ],
      "metadata": {
        "colab": {
          "base_uri": "https://localhost:8080/",
          "height": 109
        },
        "id": "K23PVC1nNYTU",
        "outputId": "33366df1-06be-4e7e-adf9-9c240a12ef75"
      },
      "execution_count": 31,
      "outputs": [
        {
          "output_type": "display_data",
          "data": {
            "text/plain": [
              "<IPython.core.display.HTML object>"
            ],
            "text/html": [
              "\n",
              "<style>\n",
              "    /* Turns off some styling */\n",
              "    progress {\n",
              "        /* gets rid of default border in Firefox and Opera. */\n",
              "        border: none;\n",
              "        /* Needs to be in here for Safari polyfill so background images work as expected. */\n",
              "        background-size: auto;\n",
              "    }\n",
              "    progress:not([value]), progress:not([value])::-webkit-progress-bar {\n",
              "        background: repeating-linear-gradient(45deg, #7e7e7e, #7e7e7e 10px, #5c5c5c 10px, #5c5c5c 20px);\n",
              "    }\n",
              "    .progress-bar-interrupted, .progress-bar-interrupted::-webkit-progress-bar {\n",
              "        background: #F44336;\n",
              "    }\n",
              "</style>\n"
            ]
          },
          "metadata": {}
        },
        {
          "output_type": "display_data",
          "data": {
            "text/plain": [
              "<IPython.core.display.HTML object>"
            ],
            "text/html": []
          },
          "metadata": {}
        },
        {
          "output_type": "execute_result",
          "data": {
            "text/plain": [
              "('Avocado',\n",
              " tensor(0),\n",
              " tensor([9.9955e-01, 3.6469e-10, 5.4317e-10, 4.0386e-11, 3.9723e-09, 1.3849e-05,\n",
              "         7.4138e-10, 1.9350e-09, 4.0460e-12, 4.3391e-04, 4.7672e-07, 7.1322e-09,\n",
              "         4.1557e-10, 4.3423e-07, 2.9362e-07]))"
            ]
          },
          "metadata": {},
          "execution_count": 31
        }
      ]
    },
    {
      "cell_type": "markdown",
      "source": [
        "# Inference 2\n",
        "**Target** Bell Pepper"
      ],
      "metadata": {
        "id": "aRiJokvIj0aH"
      }
    },
    {
      "cell_type": "code",
      "source": [
        "img = Image.open(f'/content/drive/MyDrive/Master_Course/Vegetable_Recognizer/data/Bell Peppers/0252c9b3-4e52-4682-b601-239d341013ae.jpg')\n",
        "img.to_thumb(128,128)"
      ],
      "metadata": {
        "colab": {
          "base_uri": "https://localhost:8080/",
          "height": 102
        },
        "id": "16C-JSDFj8B0",
        "outputId": "2a30a611-89d8-44c1-9a89-808568b6bc88"
      },
      "execution_count": 30,
      "outputs": [
        {
          "output_type": "execute_result",
          "data": {
            "text/plain": [
              "<PIL.Image.Image image mode=RGB size=128x85>"
            ],
            "image/png": "[encoded data removed]"
          },
          "metadata": {},
          "execution_count": 30
        }
      ]
    },
    {
      "cell_type": "code",
      "source": [
        "model.predict(f'/content/drive/MyDrive/Master_Course/Vegetable_Recognizer/data/Bell Peppers/0252c9b3-4e52-4682-b601-239d341013ae.jpg')"
      ],
      "metadata": {
        "colab": {
          "base_uri": "https://localhost:8080/",
          "height": 109
        },
        "id": "sre2qwPdl00r",
        "outputId": "0d85a40f-425f-4dd5-e2d0-6d0afab03136"
      },
      "execution_count": 34,
      "outputs": [
        {
          "output_type": "display_data",
          "data": {
            "text/plain": [
              "<IPython.core.display.HTML object>"
            ],
            "text/html": [
              "\n",
              "<style>\n",
              "    /* Turns off some styling */\n",
              "    progress {\n",
              "        /* gets rid of default border in Firefox and Opera. */\n",
              "        border: none;\n",
              "        /* Needs to be in here for Safari polyfill so background images work as expected. */\n",
              "        background-size: auto;\n",
              "    }\n",
              "    progress:not([value]), progress:not([value])::-webkit-progress-bar {\n",
              "        background: repeating-linear-gradient(45deg, #7e7e7e, #7e7e7e 10px, #5c5c5c 10px, #5c5c5c 20px);\n",
              "    }\n",
              "    .progress-bar-interrupted, .progress-bar-interrupted::-webkit-progress-bar {\n",
              "        background: #F44336;\n",
              "    }\n",
              "</style>\n"
            ]
          },
          "metadata": {}
        },
        {
          "output_type": "display_data",
          "data": {
            "text/plain": [
              "<IPython.core.display.HTML object>"
            ],
            "text/html": []
          },
          "metadata": {}
        },
        {
          "output_type": "execute_result",
          "data": {
            "text/plain": [
              "('Bell Peppers',\n",
              " tensor(1),\n",
              " tensor([2.1741e-04, 6.7621e-01, 1.9624e-04, 4.7931e-04, 2.6532e-01, 1.4143e-03,\n",
              "         1.6244e-06, 6.0937e-05, 4.2386e-03, 3.7631e-02, 1.9026e-07, 2.4680e-04,\n",
              "         1.1457e-02, 2.2355e-03, 2.9175e-04]))"
            ]
          },
          "metadata": {},
          "execution_count": 34
        }
      ]
    },
    {
      "cell_type": "markdown",
      "source": [
        "# Inference 3\n",
        "**Target** Broccoli"
      ],
      "metadata": {
        "id": "8kiloIBnmxyO"
      }
    },
    {
      "cell_type": "code",
      "source": [
        "img = Image.open(f'/content/drive/MyDrive/Master_Course/Vegetable_Recognizer/data/Broccoli/062b1e2d-5157-4b9d-976b-07a26744c3b0.jpg')\n",
        "img.to_thumb(128,128)"
      ],
      "metadata": {
        "colab": {
          "base_uri": "https://localhost:8080/",
          "height": 102
        },
        "id": "AfqIQLFbm2V5",
        "outputId": "452afa17-99f8-407f-f0d4-f2f4c4a32c97"
      },
      "execution_count": 39,
      "outputs": [
        {
          "output_type": "execute_result",
          "data": {
            "text/plain": [
              "<PIL.Image.Image image mode=RGB size=128x85>"
            ],
            "image/png": "[encoded data removed]"
          },
          "metadata": {},
          "execution_count": 39
        }
      ]
    },
    {
      "cell_type": "code",
      "source": [
        "model.predict(f'/content/drive/MyDrive/Master_Course/Vegetable_Recognizer/data/Broccoli/062b1e2d-5157-4b9d-976b-07a26744c3b0.jpg')"
      ],
      "metadata": {
        "colab": {
          "base_uri": "https://localhost:8080/",
          "height": 109
        },
        "id": "sHejQk1PnWIn",
        "outputId": "8ae4db0d-fff8-4800-9cc4-494fed8d9a2c"
      },
      "execution_count": 40,
      "outputs": [
        {
          "output_type": "display_data",
          "data": {
            "text/plain": [
              "<IPython.core.display.HTML object>"
            ],
            "text/html": [
              "\n",
              "<style>\n",
              "    /* Turns off some styling */\n",
              "    progress {\n",
              "        /* gets rid of default border in Firefox and Opera. */\n",
              "        border: none;\n",
              "        /* Needs to be in here for Safari polyfill so background images work as expected. */\n",
              "        background-size: auto;\n",
              "    }\n",
              "    progress:not([value]), progress:not([value])::-webkit-progress-bar {\n",
              "        background: repeating-linear-gradient(45deg, #7e7e7e, #7e7e7e 10px, #5c5c5c 10px, #5c5c5c 20px);\n",
              "    }\n",
              "    .progress-bar-interrupted, .progress-bar-interrupted::-webkit-progress-bar {\n",
              "        background: #F44336;\n",
              "    }\n",
              "</style>\n"
            ]
          },
          "metadata": {}
        },
        {
          "output_type": "display_data",
          "data": {
            "text/plain": [
              "<IPython.core.display.HTML object>"
            ],
            "text/html": []
          },
          "metadata": {}
        },
        {
          "output_type": "execute_result",
          "data": {
            "text/plain": [
              "('Broccoli',\n",
              " tensor(2),\n",
              " tensor([4.8865e-10, 2.8348e-14, 1.0000e+00, 2.7575e-11, 2.1527e-13, 2.9440e-12,\n",
              "         3.0553e-12, 5.3338e-13, 1.2547e-12, 8.5996e-13, 3.7238e-14, 2.4916e-13,\n",
              "         7.3681e-15, 5.2586e-15, 3.7157e-11]))"
            ]
          },
          "metadata": {},
          "execution_count": 40
        }
      ]
    },
    {
      "cell_type": "markdown",
      "source": [
        "# Inference 4\n",
        "**Target** Cabbage"
      ],
      "metadata": {
        "id": "tYnQZqS5oAmW"
      }
    },
    {
      "cell_type": "code",
      "source": [
        "img = Image.open(f'/content/drive/MyDrive/Master_Course/Vegetable_Recognizer/data/Cabbage/14015e57-971e-4f1d-81ea-caec0e25d0f8.jpg')\n",
        "img.to_thumb(128,128)"
      ],
      "metadata": {
        "colab": {
          "base_uri": "https://localhost:8080/",
          "height": 61
        },
        "id": "d7JoaaOnoDa9",
        "outputId": "a9b2b5e9-aa23-4472-df73-065f12c21415"
      },
      "execution_count": 42,
      "outputs": [
        {
          "output_type": "execute_result",
          "data": {
            "text/plain": [
              "<PIL.Image.Image image mode=RGB size=128x44>"
            ],
            "image/png": "[encoded data removed]"
          },
          "metadata": {},
          "execution_count": 42
        }
      ]
    },
    {
      "cell_type": "code",
      "source": [
        "model.predict(f'/content/drive/MyDrive/Master_Course/Vegetable_Recognizer/data/Cabbage/14015e57-971e-4f1d-81ea-caec0e25d0f8.jpg')"
      ],
      "metadata": {
        "colab": {
          "base_uri": "https://localhost:8080/",
          "height": 109
        },
        "id": "vgK-3pGjpXsq",
        "outputId": "c3c4d9db-373c-46eb-df91-be138dd69283"
      },
      "execution_count": 43,
      "outputs": [
        {
          "output_type": "display_data",
          "data": {
            "text/plain": [
              "<IPython.core.display.HTML object>"
            ],
            "text/html": [
              "\n",
              "<style>\n",
              "    /* Turns off some styling */\n",
              "    progress {\n",
              "        /* gets rid of default border in Firefox and Opera. */\n",
              "        border: none;\n",
              "        /* Needs to be in here for Safari polyfill so background images work as expected. */\n",
              "        background-size: auto;\n",
              "    }\n",
              "    progress:not([value]), progress:not([value])::-webkit-progress-bar {\n",
              "        background: repeating-linear-gradient(45deg, #7e7e7e, #7e7e7e 10px, #5c5c5c 10px, #5c5c5c 20px);\n",
              "    }\n",
              "    .progress-bar-interrupted, .progress-bar-interrupted::-webkit-progress-bar {\n",
              "        background: #F44336;\n",
              "    }\n",
              "</style>\n"
            ]
          },
          "metadata": {}
        },
        {
          "output_type": "display_data",
          "data": {
            "text/plain": [
              "<IPython.core.display.HTML object>"
            ],
            "text/html": []
          },
          "metadata": {}
        },
        {
          "output_type": "execute_result",
          "data": {
            "text/plain": [
              "('Cabbage',\n",
              " tensor(3),\n",
              " tensor([1.0539e-02, 2.9538e-06, 2.9210e-05, 9.8248e-01, 2.6544e-06, 1.2633e-06,\n",
              "         5.8936e-03, 1.6937e-05, 2.4368e-05, 5.7075e-04, 2.8781e-06, 2.8174e-05,\n",
              "         3.8922e-04, 8.3976e-07, 1.4405e-05]))"
            ]
          },
          "metadata": {},
          "execution_count": 43
        }
      ]
    }
  ]
}